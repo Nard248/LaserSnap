{
 "cells": [
  {
   "cell_type": "code",
   "id": "initial_id",
   "metadata": {
    "collapsed": true,
    "ExecuteTime": {
     "end_time": "2024-08-26T07:47:50.372971Z",
     "start_time": "2024-08-26T07:47:50.227127Z"
    }
   },
   "source": [
    "import subprocess\n",
    "\n",
    "# Path to the application\n",
    "app_path = r\"C:\\Program Files\\GoldenEye SW Package v1.3.2\\Goldeneyev1.3.2\\Goldeneyev1.3.2.exe\"\n",
    "\n",
    "# Open the application\n",
    "subprocess.Popen(app_path)"
   ],
   "outputs": [
    {
     "data": {
      "text/plain": [
       "<Popen: returncode: None args: 'C:\\\\Program Files\\\\GoldenEye SW Package v1.3...>"
      ]
     },
     "execution_count": 1,
     "metadata": {},
     "output_type": "execute_result"
    }
   ],
   "execution_count": 1
  },
  {
   "metadata": {
    "ExecuteTime": {
     "end_time": "2024-08-26T08:04:24.095482Z",
     "start_time": "2024-08-26T08:04:13.255116Z"
    }
   },
   "cell_type": "code",
   "source": [
    "import subprocess\n",
    "import pygetwindow as gw\n",
    "import pyautogui\n",
    "import time\n",
    "\n",
    "# Path to the application\n",
    "app_path = r\"C:\\Program Files\\GoldenEye SW Package v1.3.2\\Goldeneyev1.3.2\\Goldeneyev1.3.2.exe\"\n",
    "\n",
    "# Step 1: Open the application\n",
    "subprocess.Popen(app_path)\n",
    "\n",
    "# Step 2: Give it some time to open\n",
    "time.sleep(8)  # Adjust the delay based on how long the application takes to open\n",
    "\n",
    "# Step 3: Debug - List all window titles to find the correct one\n",
    "windows = gw.getAllTitles()\n",
    "print(\"Available windows:\", windows)\n",
    "\n",
    "# Assuming the correct title is found in the printed list, use that title\n",
    "app_title = \"GoldenEye Hyperspectral Imager V1.3.2 - [V2380268]\"  # Adjust this if needed based on the printed output\n",
    "\n",
    "# Step 4: Find the application window by its title\n",
    "try:\n",
    "    app_window = gw.getWindowsWithTitle(app_title)[0]\n",
    "    # Maximize the window\n",
    "    app_window.maximize()\n",
    "except IndexError:\n",
    "    print(f\"Window with title '{app_title}' not found.\")\n",
    "    exit()\n",
    "\n",
    "# Step 5: Wait a little to ensure the window is maximized\n",
    "time.sleep(2)\n",
    "\n",
    "# Step 6: Move the mouse to the checkbox and click\n",
    "# Coordinates of the checkbox (adjust as necessary)\n",
    "checkbox_x, checkbox_y = 1618, 884  # These values need to be adjusted based on your screen\n",
    "\n",
    "# Move to the checkbox\n",
    "pyautogui.moveTo(checkbox_x, checkbox_y)\n",
    "\n",
    "# Click the checkbox\n",
    "pyautogui.click()\n",
    "\n",
    "yes_button_x, yes_button_y = 619, 405\n",
    "pyautogui.moveTo(checkbox_x, checkbox_y)\n",
    "pyautogui.click()"
   ],
   "id": "7a69bad0e6977b5e",
   "outputs": [
    {
     "name": "stdout",
     "output_type": "stream",
     "text": [
      "Available windows: ['', 'GoldenEye Hyperspectral Imager V1.3.2 - [V2380268]', 'LaserSnap – AutomationTestGoldenEye.ipynb', 'ChatGPT - Code Copilot - Google Chrome', 'Settings', 'Settings', '', '', '', '', '', '', 'Windows Input Experience', 'Snipping Tool', '', '', 'Program Manager']\n"
     ]
    }
   ],
   "execution_count": 3
  },
  {
   "metadata": {
    "ExecuteTime": {
     "end_time": "2024-08-26T08:04:58.621059Z",
     "start_time": "2024-08-26T08:04:58.616314Z"
    }
   },
   "cell_type": "code",
   "source": [
    "windows = gw.getAllTitles()\n",
    "print(\"Available windows:\", windows)"
   ],
   "id": "ca6fbf33484da743",
   "outputs": [
    {
     "name": "stdout",
     "output_type": "stream",
     "text": [
      "Available windows: ['', 'LaserSnap – AutomationTestGoldenEye.ipynb', ' ', 'GoldenEye Hyperspectral Imager V1.3.2 - [V2380268]', 'ChatGPT - Code Copilot - Google Chrome', 'Settings', 'Settings', '', '', '', '', '', '', 'Windows Input Experience', 'Snipping Tool', '', '', 'Program Manager']\n"
     ]
    }
   ],
   "execution_count": 4
  },
  {
   "metadata": {
    "ExecuteTime": {
     "end_time": "2024-08-26T08:05:28.022032Z",
     "start_time": "2024-08-26T08:05:28.017500Z"
    }
   },
   "cell_type": "code",
   "source": [
    "windows = gw.getAllTitles()\n",
    "print(\"Available windows:\", windows)"
   ],
   "id": "830283ddc1a1a77e",
   "outputs": [
    {
     "name": "stdout",
     "output_type": "stream",
     "text": [
      "Available windows: ['', 'LaserSnap – AutomationTestGoldenEye.ipynb', 'GoldenEye Hyperspectral Imager V1.3.2 - [V2380268]', 'ChatGPT - Code Copilot - Google Chrome', 'Settings', 'Settings', '', '', '', '', '', '', 'Windows Input Experience', 'Snipping Tool', '', '', 'Program Manager']\n"
     ]
    }
   ],
   "execution_count": 5
  },
  {
   "metadata": {
    "ExecuteTime": {
     "end_time": "2024-08-26T08:03:53.529710Z",
     "start_time": "2024-08-26T08:03:13.517352Z"
    }
   },
   "cell_type": "code",
   "source": [
    "import pyautogui\n",
    "import time\n",
    "\n",
    "print(\"Move the mouse to the desired location to get the coordinates. Press Ctrl+C to stop.\")\n",
    "\n",
    "try:\n",
    "    while True:\n",
    "        # Get the current mouse position\n",
    "        x, y = pyautogui.position()\n",
    "        print(f\"X: {x}, Y: {y}\")\n",
    "        time.sleep(5)  # Adjust the sleep time as needed\n",
    "except KeyboardInterrupt:\n",
    "    print(\"\\nDone.\")"
   ],
   "id": "5e77ea39c3c9371a",
   "outputs": [
    {
     "name": "stdout",
     "output_type": "stream",
     "text": [
      "Move the mouse to the desired location to get the coordinates. Press Ctrl+C to stop.\n",
      "X: 807, Y: 561\n",
      "X: 603, Y: 124\n",
      "X: 623, Y: 404\n",
      "X: 623, Y: 404\n",
      "X: 576, Y: 184\n",
      "X: 619, Y: 405\n",
      "X: 619, Y: 408\n",
      "X: 625, Y: 410\n",
      "\n",
      "Done.\n"
     ]
    }
   ],
   "execution_count": 2
  },
  {
   "metadata": {
    "ExecuteTime": {
     "end_time": "2024-08-26T10:04:04.286308Z",
     "start_time": "2024-08-26T10:03:41.351793Z"
    }
   },
   "cell_type": "code",
   "source": [
    "import subprocess\n",
    "import pygetwindow as gw\n",
    "import pyautogui\n",
    "import time\n",
    "\n",
    "# Path to the application\n",
    "app_path = r\"C:\\Program Files\\GoldenEye SW Package v1.3.2\\Goldeneyev1.3.2\\Goldeneyev1.3.2.exe\"\n",
    "\n",
    "# Step 1: Open the application\n",
    "subprocess.Popen(app_path)\n",
    "\n",
    "# Step 2: Give it some time to open\n",
    "time.sleep(15)  # Adjust the delay based on how long the application takes to open\n",
    "\n",
    "# Step 3: Debug - List all window titles to find the correct one\n",
    "windows = gw.getAllTitles()\n",
    "print(\"Available windows:\", windows)\n",
    "\n",
    "# Assuming the correct title is found in the printed list, use that title\n",
    "app_title = \"GoldenEye Hyperspectral Imager V1.3.2 - [V2380268]\"\n",
    "\n",
    "# Step 4: Find the application window by its title\n",
    "try:\n",
    "    app_window = gw.getWindowsWithTitle(app_title)[0]\n",
    "    # Maximize the window\n",
    "    app_window.maximize()\n",
    "except IndexError:\n",
    "    print(f\"Window with title '{app_title}' not found.\")\n",
    "    exit()\n",
    "\n",
    "# Step 5: Wait a little to ensure the window is maximized\n",
    "time.sleep(2)\n",
    "\n",
    "# Step 6: Move the mouse to the checkbox and click\n",
    "checkbox_x, checkbox_y = 1618, 884  # Coordinates of the checkbox (adjust as necessary)\n",
    "pyautogui.moveTo(checkbox_x, checkbox_y)\n",
    "pyautogui.click()\n",
    "\n",
    "# Step 7: Wait for the pop-up window to appear\n",
    "time.sleep(2)  # Adjust this delay if needed\n",
    "\n",
    "# Step 8: Find the pop-up window (which has no title) and bring it to the foreground\n",
    "try:\n",
    "    popup_window = gw.getWindowsWithTitle(' ')[0]  # The window with an empty title\n",
    "    popup_window.activate()  # Bring the pop-up window to the front\n",
    "except IndexError:\n",
    "    print(\"Pop-up window not found.\")\n",
    "    exit()\n",
    "\n",
    "# Step 9: Move the mouse to the \"Yes\" button and click\n",
    "yes_button_x, yes_button_y = 619, 405  # Coordinates of the \"Yes\" button\n",
    "pyautogui.moveTo(yes_button_x, yes_button_y)\n",
    "time.sleep(3)\n",
    "pyautogui.click()\n",
    "\n",
    "print(\"Clicked 'Yes' on the pop-up window.\")\n"
   ],
   "id": "a44480c74489ac53",
   "outputs": [
    {
     "name": "stdout",
     "output_type": "stream",
     "text": [
      "Available windows: ['', 'GoldenEye Hyperspectral Imager V1.3.2 - [V2380268]', 'LaserSnap – AutomationTestGoldenEye.ipynb', 'Task Manager', 'Newport Oriel Tracq Basic Version 6.9.2', 'TracQBasic', 'saved_images', 'Settings', 'Settings', '', '', '', '', '', '', 'Windows Input Experience', '● geometry_to_graph.ipynb - GraphClustering - Visual Studio Code', 'ChatGPT - Code Copilot - Google Chrome', 'New folder', '', '', 'Program Manager']\n",
      "Clicked 'Yes' on the pop-up window.\n"
     ]
    }
   ],
   "execution_count": 1
  },
  {
   "metadata": {},
   "cell_type": "code",
   "outputs": [],
   "execution_count": null,
   "source": "",
   "id": "2fdf9345c4c9c4c"
  }
 ],
 "metadata": {
  "kernelspec": {
   "display_name": "Python 3",
   "language": "python",
   "name": "python3"
  },
  "language_info": {
   "codemirror_mode": {
    "name": "ipython",
    "version": 2
   },
   "file_extension": ".py",
   "mimetype": "text/x-python",
   "name": "python",
   "nbconvert_exporter": "python",
   "pygments_lexer": "ipython2",
   "version": "2.7.6"
  }
 },
 "nbformat": 4,
 "nbformat_minor": 5
}
