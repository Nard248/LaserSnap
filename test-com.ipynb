{
 "cells": [
  {
   "cell_type": "code",
   "id": "initial_id",
   "metadata": {
    "collapsed": true,
    "ExecuteTime": {
     "end_time": "2024-08-23T13:39:11.555848Z",
     "start_time": "2024-08-23T13:37:43.812278Z"
    }
   },
   "source": [
    "import pyvisa as visa\n",
    "\n",
    "rm = visa.ResourceManager()\n",
    "recources = rm.list_resources()\n",
    "print(recources)\n",
    "\n",
    "device_address = recources[0]\n",
    "device = rm.open_resource(device_address)\n",
    "\n",
    "device.timeout = 6000\n",
    "\n",
    "device.write('gowave 500.0')\n",
    "\n",
    "import serial\n",
    "import time\n",
    "\n",
    "arduino_port = 'COM4'\n",
    "baud_rate = 9600\n",
    "trigger_string = 'trigger\\n'\n",
    "\n",
    "def send_trigger():\n",
    "    # Open serial port\n",
    "    with serial.Serial(arduino_port, baud_rate, timeout=1) as ser:\n",
    "        # Give the Arduino a little time to reset after opening the serial port\n",
    "        time.sleep(2)\n",
    "        \n",
    "        # Send the trigger string\n",
    "        ser.write(trigger_string.encode('utf-8'))\n",
    "        print(f\"Sent: {trigger_string.strip()}\")\n",
    "\n",
    "send_trigger()\n",
    "\n",
    "import time\n",
    "\n",
    "device.write('gowave 300.0')\n",
    "time.sleep(5)\n",
    "send_trigger()\n",
    "time.sleep(10)\n",
    "device.write('gowave 350.0')\n",
    "time.sleep(5)\n",
    "send_trigger()\n",
    "time.sleep(10)\n",
    "device.write('gowave 400.0')\n",
    "time.sleep(5)\n",
    "send_trigger()\n",
    "time.sleep(10)\n",
    "device.write('gowave 450.0')\n",
    "time.sleep(5)\n",
    "send_trigger()\n",
    "time.sleep(10)\n",
    "device.write('gowave 500.0')\n",
    "time.sleep(5)\n",
    "send_trigger()\n",
    "time.sleep(10)"
   ],
   "outputs": [
    {
     "name": "stdout",
     "output_type": "stream",
     "text": [
      "('USB0::0x1FDE::0x0006::130B5136::INSTR', 'ASRL3::INSTR', 'ASRL4::INSTR')\n"
     ]
    },
    {
     "name": "stderr",
     "output_type": "stream",
     "text": [
      "C:\\Users\\meloy\\PycharmProjects\\LaserSnap\\venv\\Lib\\site-packages\\pyvisa\\ctwrapper\\highlevel.py:226: VisaIOWarning: VI_WARN_UNKNOWN_STATUS (1073676421): The status code passed to the operation could not be interpreted.\n",
      "  return self.handle_return_value(session, ret_value)  # type: ignore\n"
     ]
    },
    {
     "name": "stdout",
     "output_type": "stream",
     "text": [
      "Sent: trigger\n",
      "Sent: trigger\n",
      "Sent: trigger\n",
      "Sent: trigger\n",
      "Sent: trigger\n",
      "Sent: trigger\n"
     ]
    }
   ],
   "execution_count": 1
  },
  {
   "metadata": {
    "ExecuteTime": {
     "end_time": "2024-08-26T07:19:04.616974Z",
     "start_time": "2024-08-26T07:19:04.243918Z"
    }
   },
   "cell_type": "code",
   "source": [
    "import pyvisa as visa\n",
    "\n",
    "rm = visa.ResourceManager()\n",
    "recources = rm.list_resources()\n",
    "print(recources)"
   ],
   "id": "9633663aaf5f2ea6",
   "outputs": [
    {
     "name": "stdout",
     "output_type": "stream",
     "text": [
      "('USB0::0x1FDE::0x0006::130B5136::INSTR', 'ASRL3::INSTR', 'ASRL4::INSTR')\n"
     ]
    }
   ],
   "execution_count": 3
  },
  {
   "metadata": {
    "ExecuteTime": {
     "end_time": "2024-08-26T07:19:51.491379Z",
     "start_time": "2024-08-26T07:19:51.485509Z"
    }
   },
   "cell_type": "code",
   "source": [
    "import pyvisa\n",
    "\n",
    "def check_tls_device():\n",
    "    try:\n",
    "        rm = pyvisa.ResourceManager()\n",
    "        resources = rm.list_resources()\n",
    "        print(recources)\n",
    "        # Check if any resources are available\n",
    "        if not resources:\n",
    "            print(\"No VISA resources found.\")\n",
    "            return False, None\n",
    "\n",
    "        # Attempt to identify the TLS device by querying '*IDN?' (this may vary depending on your device)\n",
    "        for resource in resources:\n",
    "            try:\n",
    "                device = rm.open_resource(resource)\n",
    "                print(device.query('*IDN?'))\n",
    "                if \"CS130B\" in device.query('*IDN?'):  # Adjust this to match your device's identification response\n",
    "                    print(f\"TLS device found at {resource}\")\n",
    "                    return True, resource\n",
    "            except pyvisa.VisaIOError:\n",
    "                continue\n",
    "\n",
    "        print(\"TLS device not found.\")\n",
    "        return False, None\n",
    "\n",
    "    except pyvisa.VisaIOError as e:\n",
    "        print(f\"Error accessing VISA resources: {e}\")\n",
    "        return False, None"
   ],
   "id": "9e90c2244c9602dd",
   "outputs": [],
   "execution_count": 7
  },
  {
   "metadata": {
    "ExecuteTime": {
     "end_time": "2024-08-26T07:19:52.804095Z",
     "start_time": "2024-08-26T07:19:52.663162Z"
    }
   },
   "cell_type": "code",
   "source": "check_tls_device()",
   "id": "80e78cdf6eb84d15",
   "outputs": [
    {
     "name": "stdout",
     "output_type": "stream",
     "text": [
      "('USB0::0x1FDE::0x0006::130B5136::INSTR', 'ASRL3::INSTR', 'ASRL4::INSTR')\n",
      "Newport Corp,CS130B,130B5136,2.13\r\n",
      "\n",
      "TLS device found at USB0::0x1FDE::0x0006::130B5136::INSTR\n"
     ]
    },
    {
     "data": {
      "text/plain": [
       "(True, 'USB0::0x1FDE::0x0006::130B5136::INSTR')"
      ]
     },
     "execution_count": 8,
     "metadata": {},
     "output_type": "execute_result"
    }
   ],
   "execution_count": 8
  },
  {
   "metadata": {
    "ExecuteTime": {
     "end_time": "2024-08-26T07:20:47.828124Z",
     "start_time": "2024-08-26T07:20:47.823045Z"
    }
   },
   "cell_type": "code",
   "source": [
    "import serial.tools.list_ports\n",
    "\n",
    "def check_arduino_device():\n",
    "    try:\n",
    "        ports = list(serial.tools.list_ports.comports())\n",
    "        \n",
    "        if not ports:\n",
    "            print(\"No serial ports found.\")\n",
    "            return False, None\n",
    "\n",
    "        # Identify the Arduino by its description (you may need to adjust the string check)\n",
    "        for port in ports:\n",
    "            print(port.description)\n",
    "            if \"Arduino\" in port.description or \"CP210\" in port.description:  # Adjust based on your Arduino's description\n",
    "                print(f\"Arduino found at {port.device}\")\n",
    "                return True, port.device\n",
    "\n",
    "        print(\"Arduino device not found.\")\n",
    "        return False, None\n",
    "\n",
    "    except Exception as e:\n",
    "        print(f\"Error accessing serial ports: {e}\")\n",
    "        return False, None"
   ],
   "id": "5c2e6fec03a32b70",
   "outputs": [],
   "execution_count": 13
  },
  {
   "metadata": {
    "ExecuteTime": {
     "end_time": "2024-08-26T07:20:48.401969Z",
     "start_time": "2024-08-26T07:20:48.393244Z"
    }
   },
   "cell_type": "code",
   "source": [
    "arduino_found, arduino_port = check_arduino_device()\n",
    "print(f\"Arduino found: {arduino_found}, Port: {arduino_port}\")"
   ],
   "id": "d757e864514b9534",
   "outputs": [
    {
     "name": "stdout",
     "output_type": "stream",
     "text": [
      "Silicon Labs CP210x USB to UART Bridge (COM4)\n",
      "Arduino found at COM4\n",
      "Arduino found: True, Port: COM4\n"
     ]
    }
   ],
   "execution_count": 14
  },
  {
   "metadata": {},
   "cell_type": "code",
   "outputs": [],
   "execution_count": null,
   "source": "",
   "id": "b5c8622e34deb58"
  }
 ],
 "metadata": {
  "kernelspec": {
   "display_name": "Python 3",
   "language": "python",
   "name": "python3"
  },
  "language_info": {
   "codemirror_mode": {
    "name": "ipython",
    "version": 2
   },
   "file_extension": ".py",
   "mimetype": "text/x-python",
   "name": "python",
   "nbconvert_exporter": "python",
   "pygments_lexer": "ipython2",
   "version": "2.7.6"
  }
 },
 "nbformat": 4,
 "nbformat_minor": 5
}
