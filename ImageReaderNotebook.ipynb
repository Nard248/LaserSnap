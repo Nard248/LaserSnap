{
 "cells": [
  {
   "cell_type": "code",
   "id": "initial_id",
   "metadata": {
    "collapsed": true,
    "ExecuteTime": {
     "end_time": "2024-10-13T18:48:55.823119Z",
     "start_time": "2024-10-13T18:48:55.744823Z"
    }
   },
   "source": [
    "import spectral as spy\n",
    "import spectral.io.envi as envi\n",
    "\n",
    "meta_cube = envi.open(r\"C:\\Users\\meloy\\Desktop\\Orbeli\\DemoWithTigran\\DemoForTIgran_09-18_600_1\\spectral_image_processed_image.hdr\", r\"C:\\Users\\meloy\\Desktop\\Orbeli\\DemoWithTigran\\DemoForTIgran_09-18_600_1\\spectral_image_processed_image.bin\")\n",
    "cube = meta_cube.load()"
   ],
   "outputs": [],
   "execution_count": 14
  },
  {
   "metadata": {
    "ExecuteTime": {
     "end_time": "2024-10-13T18:39:30.703302Z",
     "start_time": "2024-10-13T18:39:30.698415Z"
    }
   },
   "cell_type": "code",
   "source": "cube",
   "id": "1e73493fe800f2e6",
   "outputs": [
    {
     "data": {
      "text/plain": [
       "ImageArray([[[31. 26. 14. ...  7.  7.  7.]\n",
       "             [10. 33. 19. ...  5.  4.  4.]\n",
       "             [67. 42. 15. ...  2.  1.  0.]\n",
       "             ...\n",
       "             [12.  9.  8. ...  1.  1.  1.]\n",
       "             [12.  6.  4. ...  1.  1.  1.]\n",
       "             [ 7.  7. 14. ...  0.  0.  0.]]\n",
       "\n",
       "            [[34. 56. 62. ...  4.  4.  4.]\n",
       "             [ 6. 18. 23. ...  3.  3.  4.]\n",
       "             [28. 17. 26. ...  1.  1.  1.]\n",
       "             ...\n",
       "             [ 2. 10. 10. ...  0.  0.  0.]\n",
       "             [12.  2.  2. ...  2.  2.  2.]\n",
       "             [16.  7.  0. ...  0.  0.  0.]]\n",
       "\n",
       "            [[17.  2. 20. ...  2.  2.  2.]\n",
       "             [23.  4. 42. ...  5.  5.  5.]\n",
       "             [28. 27. 25. ...  1.  1.  1.]\n",
       "             ...\n",
       "             [11. 10. 18. ...  2.  2.  2.]\n",
       "             [13. 21. 21. ...  4.  4.  4.]\n",
       "             [19. 13. 13. ...  0.  0.  0.]]\n",
       "\n",
       "            ...\n",
       "\n",
       "            [[11. 18. 38. ...  5.  5.  5.]\n",
       "             [27.  4. 10. ...  6.  5.  5.]\n",
       "             [33. 37. 23. ...  2.  2.  3.]\n",
       "             ...\n",
       "             [ 3.  5.  3. ...  2.  2.  2.]\n",
       "             [ 8. 13. 16. ...  0.  0.  0.]\n",
       "             [ 7.  8.  4. ...  0.  0.  0.]]\n",
       "\n",
       "            [[36. 21. 12. ...  7.  7.  7.]\n",
       "             [ 9. 21. 25. ...  4.  4.  4.]\n",
       "             [15. 11. 17. ...  2.  2.  3.]\n",
       "             ...\n",
       "             [ 1.  1.  1. ...  1.  1.  1.]\n",
       "             [15. 15. 10. ...  0.  0.  0.]\n",
       "             [ 5.  5.  5. ...  2.  2.  1.]]\n",
       "\n",
       "            [[ 6. 16. 23. ...  4.  4.  4.]\n",
       "             [34. 26. 33. ...  3.  4.  4.]\n",
       "             [12. 52. 34. ...  5.  5.  5.]\n",
       "             ...\n",
       "             [ 4.  2.  2. ...  0.  0.  0.]\n",
       "             [15. 18. 19. ...  1.  0.  0.]\n",
       "             [ 1.  8.  8. ...  0.  0.  1.]]], dtype=float32)"
      ]
     },
     "execution_count": 10,
     "metadata": {},
     "output_type": "execute_result"
    }
   ],
   "execution_count": 10
  },
  {
   "metadata": {
    "ExecuteTime": {
     "end_time": "2024-10-13T18:45:52.302050Z",
     "start_time": "2024-10-13T18:45:49.316716Z"
    }
   },
   "cell_type": "code",
   "source": [
    "rgb_bands = (29, 19, 9)  # Example of selecting three bands to map to R, G, B\n",
    "\n",
    "spy.save_rgb('output_rgb_image.png', cube, rgb_bands)"
   ],
   "id": "6476f93c40a4639",
   "outputs": [],
   "execution_count": 12
  },
  {
   "metadata": {
    "ExecuteTime": {
     "end_time": "2024-10-13T18:49:35.150306Z",
     "start_time": "2024-10-13T18:49:32.064654Z"
    }
   },
   "cell_type": "code",
   "source": [
    "import numpy as np\n",
    "import spectral.io.envi as envi\n",
    "\n",
    "# Load the two cubes\n",
    "cube1 = envi.open(r\"C:\\Users\\meloy\\Desktop\\Orbeli\\DemoWithTigran\\DemoForTIgran_09-18_600_1\\spectral_image_processed_image.hdr\", r\"C:\\Users\\meloy\\Desktop\\Orbeli\\DemoWithTigran\\DemoForTIgran_09-18_600_1\\spectral_image_processed_image.bin\").load()\n",
    "cube2 = envi.open(r\"C:\\Users\\meloy\\Desktop\\Orbeli\\DemoWithTigran\\DemoForTIgran_09-18_600_2\\spectral_image_processed_image.hdr\", r\"C:\\Users\\meloy\\Desktop\\Orbeli\\DemoWithTigran\\DemoForTIgran_09-18_600_2\\spectral_image_processed_image.bin\").load()\n",
    "\n",
    "# Ensure both cubes have the same shape before addition\n",
    "assert cube1.shape == cube2.shape, \"Cubes must have the same dimensions.\"\n",
    "\n",
    "# Add the cubes\n",
    "combined_cube = cube1 + cube2\n",
    "\n",
    "rgb_bands = (29, 19, 9)  \n",
    "\n",
    "spy.save_rgb('combined.png', combined_cube, rgb_bands)"
   ],
   "id": "d8958445e604eb6c",
   "outputs": [
    {
     "name": "stderr",
     "output_type": "stream",
     "text": [
      "C:\\Users\\meloy\\AppData\\Local\\Temp\\ipykernel_8624\\2236225852.py:12: DeprecationWarning: __array_wrap__ must accept context and return_scalar arguments (positionally) in the future. (Deprecated NumPy 2.0)\n",
      "  combined_cube = cube1 + cube2\n"
     ]
    }
   ],
   "execution_count": 15
  },
  {
   "metadata": {},
   "cell_type": "code",
   "outputs": [],
   "execution_count": null,
   "source": "",
   "id": "f53fd67678bd6200"
  }
 ],
 "metadata": {
  "kernelspec": {
   "display_name": "Python 3",
   "language": "python",
   "name": "python3"
  },
  "language_info": {
   "codemirror_mode": {
    "name": "ipython",
    "version": 2
   },
   "file_extension": ".py",
   "mimetype": "text/x-python",
   "name": "python",
   "nbconvert_exporter": "python",
   "pygments_lexer": "ipython2",
   "version": "2.7.6"
  }
 },
 "nbformat": 4,
 "nbformat_minor": 5
}
